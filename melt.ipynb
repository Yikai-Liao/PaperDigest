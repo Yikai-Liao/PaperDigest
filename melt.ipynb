{
 "cells": [
  {
   "cell_type": "code",
   "execution_count": 156,
   "id": "eb4742ee",
   "metadata": {},
   "outputs": [
    {
     "name": "stdout",
     "output_type": "stream",
     "text": [
      "Schema({'title': String, 'authors': List(String), 'institution': List(String), 'problem_background': String, 'method': String, 'experiment': String, 'one_sentence_summary': String, 'slug': String, 'keywords': List(String), 'further_thoughts': String, 'model': String, 'temperature': Float64, 'top_p': Float64, 'lang': String, 'id': String, 'preference': String, 'summary_time': String, 'score': Float64, 'abstract': String, 'categories': List(String), 'created': String, 'updated': String, 'source_file': String})\n",
      "['title', 'authors', 'institution', 'problem_background', 'method', 'experiment', 'one_sentence_summary', 'slug', 'keywords', 'further_thoughts', 'model', 'temperature', 'top_p', 'lang', 'id', 'preference', 'summary_time', 'score', 'abstract', 'categories', 'created', 'updated', 'source_file']\n"
     ]
    }
   ],
   "source": [
    "import polars as pl\n",
    "\n",
    "\n",
    "wide_df = pl.read_parquet(\"website/combined_papers.parquet\")\n",
    "# shuffle the rows\n",
    "wide_df = wide_df.sample(fraction=1.0, shuffle=True, seed=42)\n",
    "print(wide_df.schema)\n",
    "print(wide_df.columns)"
   ]
  },
  {
   "cell_type": "code",
   "execution_count": 157,
   "id": "ace1fa26",
   "metadata": {},
   "outputs": [
    {
     "data": {
      "text/html": [
       "<div><style>\n",
       ".dataframe > thead > tr,\n",
       ".dataframe > tbody > tr {\n",
       "  text-align: right;\n",
       "  white-space: pre-wrap;\n",
       "}\n",
       "</style>\n",
       "<small>shape: (2_068, 3)</small><table border=\"1\" class=\"dataframe\"><thead><tr><th>id</th><th>variable</th><th>value</th></tr><tr><td>str</td><td>str</td><td>str</td></tr></thead><tbody><tr><td>&quot;2502.14866&quot;</td><td>&quot;title&quot;</td><td>&quot;LServe: Efficient Long-sequenc…</td></tr><tr><td>&quot;2503.08727&quot;</td><td>&quot;title&quot;</td><td>&quot;Training Plug-n-Play Knowledge…</td></tr><tr><td>&quot;2504.21018&quot;</td><td>&quot;title&quot;</td><td>&quot;HYPEROFA: Expanding LLM Vocabu…</td></tr><tr><td>&quot;2502.05945&quot;</td><td>&quot;title&quot;</td><td>&quot;HSI: Head-Specific Interventio…</td></tr><tr><td>&quot;2504.02263&quot;</td><td>&quot;title&quot;</td><td>&quot;MegaScale-Infer: Serving Mixtu…</td></tr><tr><td>&hellip;</td><td>&hellip;</td><td>&hellip;</td></tr><tr><td>&quot;2503.23798&quot;</td><td>&quot;source_file&quot;</td><td>&quot;2503.23798.json&quot;</td></tr><tr><td>&quot;2504.18413&quot;</td><td>&quot;source_file&quot;</td><td>&quot;2504.18413.json&quot;</td></tr><tr><td>&quot;2504.21801&quot;</td><td>&quot;source_file&quot;</td><td>&quot;2504.21801.json&quot;</td></tr><tr><td>&quot;2503.01713&quot;</td><td>&quot;source_file&quot;</td><td>&quot;2503.01713.json&quot;</td></tr><tr><td>&quot;2504.21228&quot;</td><td>&quot;source_file&quot;</td><td>&quot;2504.21228.json&quot;</td></tr></tbody></table></div>"
      ],
      "text/plain": [
       "shape: (2_068, 3)\n",
       "┌────────────┬─────────────┬─────────────────────────────────┐\n",
       "│ id         ┆ variable    ┆ value                           │\n",
       "│ ---        ┆ ---         ┆ ---                             │\n",
       "│ str        ┆ str         ┆ str                             │\n",
       "╞════════════╪═════════════╪═════════════════════════════════╡\n",
       "│ 2502.14866 ┆ title       ┆ LServe: Efficient Long-sequenc… │\n",
       "│ 2503.08727 ┆ title       ┆ Training Plug-n-Play Knowledge… │\n",
       "│ 2504.21018 ┆ title       ┆ HYPEROFA: Expanding LLM Vocabu… │\n",
       "│ 2502.05945 ┆ title       ┆ HSI: Head-Specific Interventio… │\n",
       "│ 2504.02263 ┆ title       ┆ MegaScale-Infer: Serving Mixtu… │\n",
       "│ …          ┆ …           ┆ …                               │\n",
       "│ 2503.23798 ┆ source_file ┆ 2503.23798.json                 │\n",
       "│ 2504.18413 ┆ source_file ┆ 2504.18413.json                 │\n",
       "│ 2504.21801 ┆ source_file ┆ 2504.21801.json                 │\n",
       "│ 2503.01713 ┆ source_file ┆ 2503.01713.json                 │\n",
       "│ 2504.21228 ┆ source_file ┆ 2504.21228.json                 │\n",
       "└────────────┴─────────────┴─────────────────────────────────┘"
      ]
     },
     "execution_count": 157,
     "metadata": {},
     "output_type": "execute_result"
    }
   ],
   "source": [
    "SAFE_DELIMITER = \"\\x1f\"\n",
    "wide_df = wide_df.lazy()\n",
    "format_df = wide_df.with_columns(\n",
    "    pl.col(name).list.join(SAFE_DELIMITER).alias(name)\n",
    "    for name in (\"authors\", \"institution\", \"keywords\", \"categories\")\n",
    ")\n",
    "format_df = format_df.with_columns(\n",
    "    # Convert Float64 to String with precision 2\n",
    "    pl.col(name).round(6).cast(pl.Utf8).alias(name)\n",
    "    for name in (\"score\", \"top_p\", \"temperature\")\n",
    ")\n",
    "long_df = format_df.unpivot(index=\"id\")\n",
    "\n",
    "long_df = long_df.collect()\n",
    "long_df.write_csv(\"raw.csv\")\n",
    "long_df"
   ]
  },
  {
   "cell_type": "code",
   "execution_count": 158,
   "id": "d9fc3ea2",
   "metadata": {},
   "outputs": [
    {
     "data": {
      "text/html": [
       "<div><style>\n",
       ".dataframe > thead > tr,\n",
       ".dataframe > tbody > tr {\n",
       "  text-align: right;\n",
       "  white-space: pre-wrap;\n",
       "}\n",
       "</style>\n",
       "<small>shape: (94, 23)</small><table border=\"1\" class=\"dataframe\"><thead><tr><th>id</th><th>title</th><th>authors</th><th>institution</th><th>problem_background</th><th>method</th><th>experiment</th><th>one_sentence_summary</th><th>slug</th><th>keywords</th><th>further_thoughts</th><th>model</th><th>temperature</th><th>top_p</th><th>lang</th><th>preference</th><th>summary_time</th><th>score</th><th>abstract</th><th>categories</th><th>created</th><th>updated</th><th>source_file</th></tr><tr><td>str</td><td>str</td><td>str</td><td>str</td><td>str</td><td>str</td><td>str</td><td>str</td><td>str</td><td>str</td><td>str</td><td>str</td><td>str</td><td>str</td><td>str</td><td>str</td><td>str</td><td>str</td><td>str</td><td>str</td><td>str</td><td>str</td><td>str</td></tr></thead><tbody><tr><td>&quot;2502.14866&quot;</td><td>&quot;LServe: Efficient Long-sequenc…</td><td>&quot;Shang Yang\u001fJunxian Guo\u001fHaotian…</td><td>&quot;MIT\u001fShanghai Jiao Tong Univers…</td><td>&quot;大型语言模型（LLMs）在处理长序列和复杂推理任务时表现出色…</td><td>&quot;* **核心思想：** LServe 通过统一块稀疏注意力框…</td><td>&quot;* **实验设置：** 本文使用Llama-3-8B、Min…</td><td>&quot;本文提出LServe系统，通过统一块稀疏注意力机制结合静态和…</td><td>&quot;lserve-sparse-attention&quot;</td><td>&quot;LLM\u001fSparse Attention\u001fBlock Spa…</td><td>&quot;这项工作突显了稀疏注意力的潜力，不仅可以扩展到多模态模型（如…</td><td>&quot;grok-3-mini-latest&quot;</td><td>&quot;0.5&quot;</td><td>&quot;0.7&quot;</td><td>&quot;zh&quot;</td><td>&quot;dislike&quot;</td><td>&quot;2025-05-04T08:26:52.160873+00:…</td><td>&quot;0.830707&quot;</td><td>&quot;Large language models (LLMs) h…</td><td>&quot;cs.CL\u001fcs.AI\u001fcs.DC\u001fcs.LG\u001fcs.PF&quot;</td><td>&quot;2025-04-21&quot;</td><td>&quot;2025-04-22&quot;</td><td>&quot;2502.14866.json&quot;</td></tr><tr><td>&quot;2503.08727&quot;</td><td>&quot;Training Plug-n-Play Knowledge…</td><td>&quot;Lucas Caccia\u001fAlan Ansell\u001fEdoar…</td><td>&quot;Microsoft Research Montreal\u001fUn…</td><td>&quot;大型语言模型（LLM）在海量语料上预训练后，能够捕获广泛的语…</td><td>&quot;*&nbsp;&nbsp;&nbsp;**核心思想：** 本文提出深度上下文蒸馏（Deep…</td><td>&quot;*&nbsp;&nbsp;&nbsp;**数据集和模型：** 实验使用 QuALITY（多…</td><td>&quot;本文提出使用深度上下文蒸馏训练可插拔知识模块的方法，能够在低…</td><td>&quot;plug-and-play-knowledge-module…</td><td>&quot;LLM\u001fKnowledge Module\u001fDeep Cont…</td><td>&quot;这个模块化方法强调了知识注入的灵活性，可能在隐私保护和高效推…</td><td>&quot;grok-3-mini-latest&quot;</td><td>&quot;0.5&quot;</td><td>&quot;0.7&quot;</td><td>&quot;zh&quot;</td><td>&quot;unknown&quot;</td><td>&quot;2025-05-04T08:28:09.998715+00:…</td><td>&quot;0.690604&quot;</td><td>&quot;Dynamically integrating new or…</td><td>&quot;cs.LG\u001fcs.AI&quot;</td><td>&quot;2025-04-29&quot;</td><td>&quot;2025-04-30&quot;</td><td>&quot;2503.08727.json&quot;</td></tr><tr><td>&quot;2504.21018&quot;</td><td>&quot;HYPEROFA: Expanding LLM Vocabu…</td><td>&quot;Enes Özeren\u001fYihong Liu\u001fHinrich…</td><td>&quot;LMU Munich\u001fMunich Center for M…</td><td>&quot;多语言预训练语言模型（PLMs）在中等和低资源语言上的性能 …</td><td>&quot;*核心思想:* 使用超网络学习从外部多语言词向量空间到PLM…</td><td>&quot;*实验设置:* 在RoBERTa和XLM-R上扩展词汇，比较…</td><td>&quot;本文提出基于超网络的HYPEROFA方法，用于初始化新语言令…</td><td>&quot;hyperofa-embedding-initializat…</td><td>&quot;Hypernetwork\u001fEmbedding Initial…</td><td>&quot;HYPEROFA的方法突显了超网络在嵌入初始化中的灵活性，可…</td><td>&quot;grok-3-mini-latest&quot;</td><td>&quot;0.5&quot;</td><td>&quot;0.7&quot;</td><td>&quot;zh&quot;</td><td>&quot;unknown&quot;</td><td>&quot;2025-05-04T08:33:03.377385+00:…</td><td>&quot;0.629196&quot;</td><td>&quot;Many pre-trained language mode…</td><td>&quot;cs.CL\u001fcs.LG&quot;</td><td>&quot;2025-04-21&quot;</td><td>&quot;2025-05-01&quot;</td><td>&quot;2504.21018.json&quot;</td></tr><tr><td>&quot;2502.05945&quot;</td><td>&quot;HSI: Head-Specific Interventio…</td><td>&quot;Paul Darm\u001fAnnalisa Riccardi&quot;</td><td>&quot;University of Strathclyde&quot;</td><td>&quot;大型语言模型（LLMs）在各种领域的广泛应用使得安全对齐变得…</td><td>&quot;* **核心思想:** 通过在模型的注意力头级别进行细粒度激…</td><td>&quot;* **实验设置:** 使用Llama 2 7b模型和Ant…</td><td>&quot;本文提出Head-Specific Intervention…</td><td>&quot;head-specific-intervention-hsi&quot;</td><td>&quot;LLM\u001fAttention Heads\u001fActivation…</td><td>&quot;本文揭示了注意力头激活的线性可分性，这可能启发更细粒度的模型…</td><td>&quot;grok-3-mini-latest&quot;</td><td>&quot;0.5&quot;</td><td>&quot;0.7&quot;</td><td>&quot;zh&quot;</td><td>&quot;unknown&quot;</td><td>&quot;2025-05-04T08:27:44.573145+00:…</td><td>&quot;0.78968&quot;</td><td>&quot;Robust alignment guardrails fo…</td><td>&quot;cs.CL\u001fcs.AI&quot;</td><td>&quot;2025-05-01&quot;</td><td>&quot;2025-05-02&quot;</td><td>&quot;2502.05945.json&quot;</td></tr><tr><td>&quot;2504.02263&quot;</td><td>&quot;MegaScale-Infer: Serving Mixtu…</td><td>&quot;Ruidong Zhu\u001fZiheng Jiang\u001fChao …</td><td>&quot;ByteDance Seed\u001fPeking Universi…</td><td>&quot;混合专家（MoE）模型在扩展大型语言模型（LLM）时展示了巨…</td><td>&quot;* **核心思想：** 通过分离注意力模块和FFN模块（即专…</td><td>&quot;* **实验设置：** 使用Mixtral-8×22B、DB…</td><td>&quot;本文提出MegaScale-Infer系统，通过分离注意力模…</td><td>&quot;megascale-infer-disaggregated-…</td><td>&quot;LLM\u001fMixture-Of-Experts\u001fDisaggr…</td><td>&quot;这项工作突出了资源分离在AI推理中的潜力，或许可以扩展到其他…</td><td>&quot;grok-3-mini-latest&quot;</td><td>&quot;0.5&quot;</td><td>&quot;0.7&quot;</td><td>&quot;zh&quot;</td><td>&quot;unknown&quot;</td><td>&quot;2025-05-04T08:30:03.321848+00:…</td><td>&quot;0.706508&quot;</td><td>&quot;Mixture-of-Experts (MoE) showc…</td><td>&quot;cs.DC\u001fcs.LG&quot;</td><td>&quot;2025-04-23&quot;</td><td>&quot;2025-04-24&quot;</td><td>&quot;2504.02263.json&quot;</td></tr><tr><td>&hellip;</td><td>&hellip;</td><td>&hellip;</td><td>&hellip;</td><td>&hellip;</td><td>&hellip;</td><td>&hellip;</td><td>&hellip;</td><td>&hellip;</td><td>&hellip;</td><td>&hellip;</td><td>&hellip;</td><td>&hellip;</td><td>&hellip;</td><td>&hellip;</td><td>&hellip;</td><td>&hellip;</td><td>&hellip;</td><td>&hellip;</td><td>&hellip;</td><td>&hellip;</td><td>&hellip;</td><td>&hellip;</td></tr><tr><td>&quot;2503.23798&quot;</td><td>&quot;Adaptive Layer-skipping in Pre…</td><td>&quot;Xuan Luo\u001fWeizhi Wang\u001fXifeng Ya…</td><td>&quot;University of California, Sant…</td><td>&quot;大型语言模型（LLMs）在生成每个token时通常进行完整的…</td><td>&quot;*核心思想:* FlexiDepth是一种插件式方法，旨在在…</td><td>&quot;*实验设置:* 本文在Llama-3-8B-Instruct…</td><td>&quot;本文提出FlexiDepth方法，通过插件式路由器和适配器实…</td><td>&quot;adaptive-layer-skipping-llms&quot;</td><td>&quot;Large Language Models\u001fLayer Sk…</td><td>&quot;FlexiDepth的层跳过机制启发我们思考LLM内部计算的…</td><td>&quot;grok-3-mini-latest&quot;</td><td>&quot;0.5&quot;</td><td>&quot;0.7&quot;</td><td>&quot;zh&quot;</td><td>&quot;unknown&quot;</td><td>&quot;2025-05-04T08:28:28.330351+00:…</td><td>&quot;0.625531&quot;</td><td>&quot;Various layer-skipping methods…</td><td>&quot;cs.CL\u001fcs.AI&quot;</td><td>&quot;2025-04-17&quot;</td><td>&quot;2025-04-21&quot;</td><td>&quot;2503.23798.json&quot;</td></tr><tr><td>&quot;2504.18413&quot;</td><td>&quot;An Empirical Study of Evaluati…</td><td>&quot;Ning Xian\u001fYixing Fan\u001fRuqing Zh…</td><td>&quot;Institute of Computing Technol…</td><td>&quot;长形式问题回答（LFQA）旨在为复杂问题生成长篇答案，随着大…</td><td>&quot;本文采用实证研究方法，核心思想是通过元评估（meta-eva…</td><td>&quot;实验使用ASQA（歧义事实QA）、ANTIQUE（非事实开放…</td><td>&quot;本文实证研究了长形式问题回答的自动评估指标，证明了基于LLM…</td><td>&quot;empirical-study-lfqa-evaluatio…</td><td>&quot;LLM\u001fEvaluation Metrics\u001fQuestio…</td><td>&quot;本文的研究强调了LLM在评估中的潜力，但也揭示了偏差问题，这…</td><td>&quot;grok-3-mini-latest&quot;</td><td>&quot;0.5&quot;</td><td>&quot;0.7&quot;</td><td>&quot;zh&quot;</td><td>&quot;unknown&quot;</td><td>&quot;2025-05-04T08:31:29.169100+00:…</td><td>&quot;0.557759&quot;</td><td>&quot;\\Ac{LFQA} aims to generate len…</td><td>&quot;cs.IR&quot;</td><td>&quot;2025-04-25&quot;</td><td>&quot;2025-04-28&quot;</td><td>&quot;2504.18413.json&quot;</td></tr><tr><td>&quot;2504.21801&quot;</td><td>&quot;DeepSeek-Prover-V2: Advancing …</td><td>&quot;Z. Z. Ren\u001fZhihong Shao\u001fJunxiao…</td><td>&quot;DeepSeek-AI&quot;</td><td>&quot;大型语言模型（LLMs）在非正式数学推理中表现出色，能够处理…</td><td>&quot;* **核心思想：** 通过将复杂定理分解为子目标，并结合强…</td><td>&quot;* **数据集和实验设置：** 本文在多个基准上评估模型，包…</td><td>&quot;本文提出DeepSeek-Prover-V2，通过子目标分解…</td><td>&quot;deepseek-prover-v2&quot;</td><td>&quot;Formal Theorem Proving\u001fReinfor…</td><td>&quot;本文的方法展示了如何通过强化学习和子目标分解来桥接非正式和正…</td><td>&quot;grok-3-mini-latest&quot;</td><td>&quot;0.5&quot;</td><td>&quot;0.7&quot;</td><td>&quot;zh&quot;</td><td>&quot;unknown&quot;</td><td>&quot;2025-05-04T08:32:56.817665+00:…</td><td>&quot;0.569836&quot;</td><td>&quot;We introduce DeepSeek-Prover-V…</td><td>&quot;cs.CL\u001fcs.AI&quot;</td><td>&quot;2025-04-30&quot;</td><td>&quot;2025-05-01&quot;</td><td>&quot;2504.21801.json&quot;</td></tr><tr><td>&quot;2503.01713&quot;</td><td>&quot;SAGE: A Framework of Precise R…</td><td>&quot;Jintao Zhang\u001fGuoliang Li\u001fJinya…</td><td>&quot;Tsinghua University&quot;</td><td>&quot;检索增强生成（RAG）技术在特定语料库上的问答（QA）任务中…</td><td>&quot;*&nbsp;&nbsp;&nbsp;**核心思想：** SAGE框架旨在通过改进检索阶段…</td><td>&quot;*&nbsp;&nbsp;&nbsp;**数据集和设置：** 使用NarrativeQA、…</td><td>&quot;本文提出SAGE框架，通过语义分割、基于梯度的块选择和LLM…</td><td>&quot;sage-precise-retrieval-for-rag&quot;</td><td>&quot;RAG\u001fSemantic Segmentation\u001fChun…</td><td>&quot;SAGE框架的语义分割和动态块选择机制可能扩展到多模态检索领…</td><td>&quot;grok-3-mini-latest&quot;</td><td>&quot;0.5&quot;</td><td>&quot;0.7&quot;</td><td>&quot;zh&quot;</td><td>&quot;unknown&quot;</td><td>&quot;2025-05-04T08:27:34.874065+00:…</td><td>&quot;0.641307&quot;</td><td>&quot;Retrieval-augmented generation…</td><td>&quot;cs.LG\u001fcs.AI\u001fcs.DB\u001fcs.IR&quot;</td><td>&quot;2025-04-30&quot;</td><td>&quot;2025-05-01&quot;</td><td>&quot;2503.01713.json&quot;</td></tr><tr><td>&quot;2504.21228&quot;</td><td>&quot;CachePrune: Neural-Based Attri…</td><td>&quot;Rui Wang\u001fJunda Wu\u001fYu Xia\u001fTong …</td><td>&quot;Adobe Research\u001fUniversity of C…</td><td>&quot;大型语言模型（LLMs）容易受到间接提示注入攻击的影响，这种…</td><td>&quot;*&nbsp;&nbsp;&nbsp;**核心思想：** 通过特征归因（feature a…</td><td>&quot;*&nbsp;&nbsp;&nbsp;**实验设置：** 使用SQuAD、HotpotQA…</td><td>&quot;本文提出CachePrune方法，通过基于DPO损失的特征归…</td><td>&quot;cacheprune-defense&quot;</td><td>&quot;LLM\u001fFeature Attribution\u001fPrompt…</td><td>&quot;这个方法强调了通过模型内部状态（如KV缓存）操纵来提升AI安…</td><td>&quot;grok-3-mini-latest&quot;</td><td>&quot;0.5&quot;</td><td>&quot;0.7&quot;</td><td>&quot;zh&quot;</td><td>&quot;unknown&quot;</td><td>&quot;2025-05-04T08:32:34.278866+00:…</td><td>&quot;0.550066&quot;</td><td>&quot;Large Language Models (LLMs) a…</td><td>&quot;cs.CR\u001fcs.AI&quot;</td><td>&quot;2025-04-29&quot;</td><td>&quot;2025-05-01&quot;</td><td>&quot;2504.21228.json&quot;</td></tr></tbody></table></div>"
      ],
      "text/plain": [
       "shape: (94, 23)\n",
       "┌───────────┬───────────┬───────────┬───────────┬───┬───────────┬───────────┬───────────┬──────────┐\n",
       "│ id        ┆ title     ┆ authors   ┆ instituti ┆ … ┆ categorie ┆ created   ┆ updated   ┆ source_f │\n",
       "│ ---       ┆ ---       ┆ ---       ┆ on        ┆   ┆ s         ┆ ---       ┆ ---       ┆ ile      │\n",
       "│ str       ┆ str       ┆ str       ┆ ---       ┆   ┆ ---       ┆ str       ┆ str       ┆ ---      │\n",
       "│           ┆           ┆           ┆ str       ┆   ┆ str       ┆           ┆           ┆ str      │\n",
       "╞═══════════╪═══════════╪═══════════╪═══════════╪═══╪═══════════╪═══════════╪═══════════╪══════════╡\n",
       "│ 2502.1486 ┆ LServe:   ┆ Shang Yan ┆ MIT\u001fShang ┆ … ┆ cs.CL\u001fcs. ┆ 2025-04-2 ┆ 2025-04-2 ┆ 2502.148 │\n",
       "│ 6         ┆ Efficient ┆ g\u001fJunxian ┆ hai Jiao  ┆   ┆ AI\u001fcs.DC\u001f ┆ 1         ┆ 2         ┆ 66.json  │\n",
       "│           ┆ Long-sequ ┆ Guo\u001fHaoti ┆ Tong      ┆   ┆ cs.LG\u001fcs. ┆           ┆           ┆          │\n",
       "│           ┆ enc…      ┆ an…       ┆ Univers…  ┆   ┆ PF        ┆           ┆           ┆          │\n",
       "│ 2503.0872 ┆ Training  ┆ Lucas Cac ┆ Microsoft ┆ … ┆ cs.LG\u001fcs. ┆ 2025-04-2 ┆ 2025-04-3 ┆ 2503.087 │\n",
       "│ 7         ┆ Plug-n-Pl ┆ cia\u001fAlan  ┆ Research  ┆   ┆ AI        ┆ 9         ┆ 0         ┆ 27.json  │\n",
       "│           ┆ ay Knowle ┆ Ansell\u001fEd ┆ Montreal\u001f ┆   ┆           ┆           ┆           ┆          │\n",
       "│           ┆ dge…      ┆ oar…      ┆ Un…       ┆   ┆           ┆           ┆           ┆          │\n",
       "│ 2504.2101 ┆ HYPEROFA: ┆ Enes Özer ┆ LMU Munic ┆ … ┆ cs.CL\u001fcs. ┆ 2025-04-2 ┆ 2025-05-0 ┆ 2504.210 │\n",
       "│ 8         ┆ Expanding ┆ en\u001fYihong ┆ h\u001fMunich  ┆   ┆ LG        ┆ 1         ┆ 1         ┆ 18.json  │\n",
       "│           ┆ LLM       ┆ Liu\u001fHinri ┆ Center    ┆   ┆           ┆           ┆           ┆          │\n",
       "│           ┆ Vocabu…   ┆ ch…       ┆ for M…    ┆   ┆           ┆           ┆           ┆          │\n",
       "│ 2502.0594 ┆ HSI: Head ┆ Paul Darm ┆ Universit ┆ … ┆ cs.CL\u001fcs. ┆ 2025-05-0 ┆ 2025-05-0 ┆ 2502.059 │\n",
       "│ 5         ┆ -Specific ┆ \u001fAnnalisa ┆ y of Stra ┆   ┆ AI        ┆ 1         ┆ 2         ┆ 45.json  │\n",
       "│           ┆ Intervent ┆ Riccardi  ┆ thclyde   ┆   ┆           ┆           ┆           ┆          │\n",
       "│           ┆ io…       ┆           ┆           ┆   ┆           ┆           ┆           ┆          │\n",
       "│ 2504.0226 ┆ MegaScale ┆ Ruidong   ┆ ByteDance ┆ … ┆ cs.DC\u001fcs. ┆ 2025-04-2 ┆ 2025-04-2 ┆ 2504.022 │\n",
       "│ 3         ┆ -Infer:   ┆ Zhu\u001fZihen ┆ Seed\u001fPeki ┆   ┆ LG        ┆ 3         ┆ 4         ┆ 63.json  │\n",
       "│           ┆ Serving   ┆ g Jiang\u001fC ┆ ng        ┆   ┆           ┆           ┆           ┆          │\n",
       "│           ┆ Mixtu…    ┆ hao …     ┆ Universi… ┆   ┆           ┆           ┆           ┆          │\n",
       "│ …         ┆ …         ┆ …         ┆ …         ┆ … ┆ …         ┆ …         ┆ …         ┆ …        │\n",
       "│ 2503.2379 ┆ Adaptive  ┆ Xuan Luo\u001f ┆ Universit ┆ … ┆ cs.CL\u001fcs. ┆ 2025-04-1 ┆ 2025-04-2 ┆ 2503.237 │\n",
       "│ 8         ┆ Layer-ski ┆ Weizhi    ┆ y of Cali ┆   ┆ AI        ┆ 7         ┆ 1         ┆ 98.json  │\n",
       "│           ┆ pping in  ┆ Wang\u001fXife ┆ fornia,   ┆   ┆           ┆           ┆           ┆          │\n",
       "│           ┆ Pre…      ┆ ng Ya…    ┆ Sant…     ┆   ┆           ┆           ┆           ┆          │\n",
       "│ 2504.1841 ┆ An        ┆ Ning Xian ┆ Institute ┆ … ┆ cs.IR     ┆ 2025-04-2 ┆ 2025-04-2 ┆ 2504.184 │\n",
       "│ 3         ┆ Empirical ┆ \u001fYixing   ┆ of        ┆   ┆           ┆ 5         ┆ 8         ┆ 13.json  │\n",
       "│           ┆ Study of  ┆ Fan\u001fRuqin ┆ Computing ┆   ┆           ┆           ┆           ┆          │\n",
       "│           ┆ Evaluati… ┆ g Zh…     ┆ Technol…  ┆   ┆           ┆           ┆           ┆          │\n",
       "│ 2504.2180 ┆ DeepSeek- ┆ Z. Z. Ren ┆ DeepSeek- ┆ … ┆ cs.CL\u001fcs. ┆ 2025-04-3 ┆ 2025-05-0 ┆ 2504.218 │\n",
       "│ 1         ┆ Prover-V2 ┆ \u001fZhihong  ┆ AI        ┆   ┆ AI        ┆ 0         ┆ 1         ┆ 01.json  │\n",
       "│           ┆ :         ┆ Shao\u001fJunx ┆           ┆   ┆           ┆           ┆           ┆          │\n",
       "│           ┆ Advancing ┆ iao…      ┆           ┆   ┆           ┆           ┆           ┆          │\n",
       "│           ┆ …         ┆           ┆           ┆   ┆           ┆           ┆           ┆          │\n",
       "│ 2503.0171 ┆ SAGE: A   ┆ Jintao    ┆ Tsinghua  ┆ … ┆ cs.LG\u001fcs. ┆ 2025-04-3 ┆ 2025-05-0 ┆ 2503.017 │\n",
       "│ 3         ┆ Framework ┆ Zhang\u001fGuo ┆ Universit ┆   ┆ AI\u001fcs.DB\u001f ┆ 0         ┆ 1         ┆ 13.json  │\n",
       "│           ┆ of        ┆ liang     ┆ y         ┆   ┆ cs.IR     ┆           ┆           ┆          │\n",
       "│           ┆ Precise   ┆ Li\u001fJinya… ┆           ┆   ┆           ┆           ┆           ┆          │\n",
       "│           ┆ R…        ┆           ┆           ┆   ┆           ┆           ┆           ┆          │\n",
       "│ 2504.2122 ┆ CachePrun ┆ Rui Wang\u001f ┆ Adobe Res ┆ … ┆ cs.CR\u001fcs. ┆ 2025-04-2 ┆ 2025-05-0 ┆ 2504.212 │\n",
       "│ 8         ┆ e: Neural ┆ Junda     ┆ earch\u001fUni ┆   ┆ AI        ┆ 9         ┆ 1         ┆ 28.json  │\n",
       "│           ┆ -Based    ┆ Wu\u001fYu     ┆ versity   ┆   ┆           ┆           ┆           ┆          │\n",
       "│           ┆ Attri…    ┆ Xia\u001fTong  ┆ of C…     ┆   ┆           ┆           ┆           ┆          │\n",
       "│           ┆           ┆ …         ┆           ┆   ┆           ┆           ┆           ┆          │\n",
       "└───────────┴───────────┴───────────┴───────────┴───┴───────────┴───────────┴───────────┴──────────┘"
      ]
     },
     "execution_count": 158,
     "metadata": {},
     "output_type": "execute_result"
    }
   ],
   "source": [
    "SAFE_DELIMITER = \"\\x1f\"\n",
    "# 需要转换回列表的列名\n",
    "list_cols_to_revert = [\"authors\", \"institution\", \"keywords\", \"categories\"]\n",
    "# 需要转换回浮点数的列名\n",
    "float_cols_to_revert = [\"score\", \"top_p\", \"temperature\"]\n",
    "\n",
    "pivoted_df = long_df.pivot(\n",
    "    index=\"id\",\n",
    "    on=\"variable\",\n",
    "    values=\"value\"\n",
    ")\n",
    "pivoted_df"
   ]
  },
  {
   "cell_type": "code",
   "execution_count": 159,
   "id": "306e4752",
   "metadata": {},
   "outputs": [
    {
     "data": {
      "text/plain": [
       "Schema([('id', String),\n",
       "        ('title', String),\n",
       "        ('authors', List(String)),\n",
       "        ('institution', List(String)),\n",
       "        ('problem_background', String),\n",
       "        ('method', String),\n",
       "        ('experiment', String),\n",
       "        ('one_sentence_summary', String),\n",
       "        ('slug', String),\n",
       "        ('keywords', List(String)),\n",
       "        ('further_thoughts', String),\n",
       "        ('model', String),\n",
       "        ('temperature', Float64),\n",
       "        ('top_p', Float64),\n",
       "        ('lang', String),\n",
       "        ('preference', String),\n",
       "        ('summary_time', String),\n",
       "        ('score', Float64),\n",
       "        ('abstract', String),\n",
       "        ('categories', List(String)),\n",
       "        ('created', String),\n",
       "        ('updated', String),\n",
       "        ('source_file', String)])"
      ]
     },
     "execution_count": 159,
     "metadata": {},
     "output_type": "execute_result"
    }
   ],
   "source": [
    "restored_df = pivoted_df.with_columns(\n",
    "    # 将字符串分割回列表\n",
    "    pl.col(name).str.split(SAFE_DELIMITER).alias(name)\n",
    "    for name in list_cols_to_revert if name in pivoted_df.columns # 确保列存在\n",
    ").with_columns(\n",
    "    # 将字符串转换回 Float64\n",
    "    pl.col(name).cast(pl.Float64).alias(name)\n",
    "    for name in float_cols_to_revert if name in pivoted_df.columns # 确保列存在\n",
    ")\n",
    "restored_df.schema"
   ]
  },
  {
   "cell_type": "code",
   "execution_count": 160,
   "id": "5cdc6c2e",
   "metadata": {},
   "outputs": [
    {
     "data": {
      "text/html": [
       "<div><style>\n",
       ".dataframe > thead > tr,\n",
       ".dataframe > tbody > tr {\n",
       "  text-align: right;\n",
       "  white-space: pre-wrap;\n",
       "}\n",
       "</style>\n",
       "<small>shape: (94, 1)</small><table border=\"1\" class=\"dataframe\"><thead><tr><th>id</th></tr><tr><td>bool</td></tr></thead><tbody><tr><td>true</td></tr><tr><td>true</td></tr><tr><td>true</td></tr><tr><td>true</td></tr><tr><td>true</td></tr><tr><td>&hellip;</td></tr><tr><td>true</td></tr><tr><td>true</td></tr><tr><td>true</td></tr><tr><td>true</td></tr><tr><td>true</td></tr></tbody></table></div>"
      ],
      "text/plain": [
       "shape: (94, 1)\n",
       "┌──────┐\n",
       "│ id   │\n",
       "│ ---  │\n",
       "│ bool │\n",
       "╞══════╡\n",
       "│ true │\n",
       "│ true │\n",
       "│ true │\n",
       "│ true │\n",
       "│ true │\n",
       "│ …    │\n",
       "│ true │\n",
       "│ true │\n",
       "│ true │\n",
       "│ true │\n",
       "│ true │\n",
       "└──────┘"
      ]
     },
     "execution_count": 160,
     "metadata": {},
     "output_type": "execute_result"
    }
   ],
   "source": [
    "wide_df.select(\"id\").collect() == restored_df.select(\"id\")"
   ]
  }
 ],
 "metadata": {
  "kernelspec": {
   "display_name": "alg",
   "language": "python",
   "name": "python3"
  },
  "language_info": {
   "codemirror_mode": {
    "name": "ipython",
    "version": 3
   },
   "file_extension": ".py",
   "mimetype": "text/x-python",
   "name": "python",
   "nbconvert_exporter": "python",
   "pygments_lexer": "ipython3",
   "version": "3.13.2"
  }
 },
 "nbformat": 4,
 "nbformat_minor": 5
}
